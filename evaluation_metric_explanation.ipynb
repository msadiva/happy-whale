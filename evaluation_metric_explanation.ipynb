{
 "cells": [
  {
   "cell_type": "markdown",
   "id": "ec9ac1de-1aef-425d-8987-53395a3371d4",
   "metadata": {},
   "source": [
    "## This notebook will try to explain the evalutaion metric for this competition i.e Mean Average Precision @5 (MAP@5)"
   ]
  },
  {
   "cell_type": "code",
   "execution_count": 1,
   "id": "e2ddb849-6d51-46dd-815a-5feb53f99e78",
   "metadata": {},
   "outputs": [],
   "source": [
    "import numpy as np\n",
    "import pandas as pd"
   ]
  },
  {
   "cell_type": "markdown",
   "id": "574c5742-15b4-4f80-aa3b-a7ef78330316",
   "metadata": {},
   "source": [
    "# Mean Average Precision (MAP)\n",
    "Submissions are evaluated according to the Mean Average Precision @ 5 (MAP@5):\n",
    "\n",
    "$$MAP@5 = {1 \\over U} \\sum_{u=1}^{U} \\sum_{k=1}^{min(n,5)}P(k)$$\n",
    "\n",
    "where `U` is the number of images, `P(k)` is the precision at cutoff `k` and `n` is the number of predictions per image.\n"
   ]
  },
  {
   "cell_type": "code",
   "execution_count": 4,
   "id": "56866674-d25e-4595-8281-1ff5ed226d9a",
   "metadata": {},
   "outputs": [],
   "source": [
    "def map_per_image(label, predictions) :\n",
    "    '''this function calculates MAP@5\n",
    "    \n",
    "    label = true label\n",
    "    predictions = list of top 5 predictions (order does matter)\n",
    "    '''\n",
    "    \n",
    "    try :\n",
    "        return 1 / (predictions[:5].index(label) + 1)\n",
    "    except ValueError :\n",
    "        return 0.0"
   ]
  },
  {
   "cell_type": "code",
   "execution_count": 5,
   "id": "5f610717-1f36-4bbd-91c0-50275fa065cc",
   "metadata": {},
   "outputs": [
    {
     "data": {
      "text/plain": [
       "1.0"
      ]
     },
     "execution_count": 5,
     "metadata": {},
     "output_type": "execute_result"
    }
   ],
   "source": [
    "label = 'x'\n",
    "predictions = ['x', 'y', 'z']\n",
    "map_per_image(label, predictions)"
   ]
  },
  {
   "cell_type": "code",
   "execution_count": 6,
   "id": "c5c81225-fadf-46d2-9441-8a27e0b8cbda",
   "metadata": {},
   "outputs": [
    {
     "data": {
      "text/plain": [
       "0.5"
      ]
     },
     "execution_count": 6,
     "metadata": {},
     "output_type": "execute_result"
    }
   ],
   "source": [
    "label = 'x'\n",
    "predictions = ['y', 'x', 'z']\n",
    "map_per_image(label, predictions)"
   ]
  },
  {
   "cell_type": "code",
   "execution_count": 8,
   "id": "59dbd64e-e90a-424f-b820-e3d0a77ff94f",
   "metadata": {},
   "outputs": [],
   "source": [
    "def map_per_set(labels, predictions) :\n",
    "    '''this function calculates MAP@5 over the whole set.\n",
    "    \n",
    "    labels = list of true labels\n",
    "    predictions = list of list of top 5 predictions for every image.\n",
    "    '''\n",
    "    \n",
    "    return np.mean([map_per_image(l,p) for l,p in zip(labels, predictions)])"
   ]
  },
  {
   "cell_type": "code",
   "execution_count": 9,
   "id": "11edfb6e-f1a6-409f-add9-dc17abf31245",
   "metadata": {},
   "outputs": [],
   "source": [
    "labels = ['x', 'y', 'z']\n",
    "predictions = [['y', 'x', 'x'], ['y', 'a', 'b'], ['a', 'b', 'z']]"
   ]
  },
  {
   "cell_type": "code",
   "execution_count": 10,
   "id": "47b41ccf-4502-48df-a3a8-0f17ff3297af",
   "metadata": {},
   "outputs": [
    {
     "data": {
      "text/plain": [
       "0.611111111111111"
      ]
     },
     "execution_count": 10,
     "metadata": {},
     "output_type": "execute_result"
    }
   ],
   "source": [
    "map_per_set(labels, predictions)"
   ]
  },
  {
   "cell_type": "code",
   "execution_count": null,
   "id": "adead14d-d702-428f-a69a-263c2d11fc32",
   "metadata": {},
   "outputs": [],
   "source": []
  }
 ],
 "metadata": {
  "kernelspec": {
   "display_name": "Python 3 (ipykernel)",
   "language": "python",
   "name": "python3"
  },
  "language_info": {
   "codemirror_mode": {
    "name": "ipython",
    "version": 3
   },
   "file_extension": ".py",
   "mimetype": "text/x-python",
   "name": "python",
   "nbconvert_exporter": "python",
   "pygments_lexer": "ipython3",
   "version": "3.8.10"
  }
 },
 "nbformat": 4,
 "nbformat_minor": 5
}
